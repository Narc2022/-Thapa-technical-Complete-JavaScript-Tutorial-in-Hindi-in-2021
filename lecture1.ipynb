{
  "nbformat": 4,
  "nbformat_minor": 0,
  "metadata": {
    "colab": {
      "provenance": [],
      "authorship_tag": "ABX9TyP/p6MmMFCOZQLoZkaCrwO2",
      "include_colab_link": true
    },
    "kernelspec": {
      "name": "python3",
      "display_name": "Python 3"
    },
    "language_info": {
      "name": "python"
    }
  },
  "cells": [
    {
      "cell_type": "markdown",
      "metadata": {
        "id": "view-in-github",
        "colab_type": "text"
      },
      "source": [
        "<a href=\"https://colab.research.google.com/github/Narc2022/-Thapa-technical-Complete-JavaScript-Tutorial-in-Hindi-in-2021/blob/main/lecture1.ipynb\" target=\"_parent\"><img src=\"https://colab.research.google.com/assets/colab-badge.svg\" alt=\"Open In Colab\"/></a>"
      ]
    },
    {
      "cell_type": "code",
      "execution_count": null,
      "metadata": {
        "colab": {
          "base_uri": "https://localhost:8080/"
        },
        "id": "7_ewRzvqQ6gD",
        "outputId": "66b1723f-8002-4ac4-b9c7-774bafcd5e38"
      },
      "outputs": [
        {
          "output_type": "stream",
          "name": "stdout",
          "text": [
            "Welcome\n",
            "800\n",
            "1000\n",
            "Python Programing\n",
            "True\n",
            "<class 'bool'>\n",
            "--------------------------------------------------------------\n",
            "(500+45j)\n",
            "<class 'complex'>\n",
            "---------------------------Operators--------------------------\n",
            "17\n",
            "13\n",
            "30\n",
            "7.5\n",
            "7\n",
            "225\n",
            "1\n"
          ]
        }
      ],
      "source": [
        "print(\"Welcome\");\n",
        "print(300 + 500);\n",
        "\n",
        "# Variable are containers used to store the datavalue.\n",
        "# Datatypes are the type of values stored inside container(variable).\n",
        "# int\n",
        "Value1 = 1000\n",
        "print(Value1)\n",
        "#string \n",
        "name1 = \"Python Programing\"\n",
        "print(name1)\n",
        "#Boolean True/False\n",
        "\n",
        "var1 = True\n",
        "print(var1)\n",
        "print(type(var1))\n",
        "\n",
        "print('--------------------------------------------------------------')\n",
        "\n",
        "var1 = 500 + 45j\n",
        "print(var1)\n",
        "print(type(var1))\n",
        "\n",
        "print('---------------------------Operators--------------------------')\n",
        "a = 500\n",
        "b = 400\n",
        "\n",
        "#Operators\n",
        "#1. Assignment Operator\n",
        "a = 15\n",
        "b = 2\n",
        "\n",
        "print(a + b)\n",
        "print(a - b)\n",
        "print(a * b)\n",
        "print(a / b)\n",
        "print(a // b) #float division\n",
        "print(a ** b)\n",
        "print(a % b)\n",
        "\n"
      ]
    }
  ]
}